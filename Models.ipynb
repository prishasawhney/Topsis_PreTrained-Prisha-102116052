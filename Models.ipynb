{
 "cells": [
  {
   "cell_type": "markdown",
   "metadata": {},
   "source": [
    "# **Name : Prisha Sawhney**\n",
    "# **Roll Number : 102116052**\n",
    "# **Group: 3CS10**"
   ]
  },
  {
   "cell_type": "markdown",
   "metadata": {},
   "source": [
    "### **Task at Hand**\n",
    "*We need to find which, among a given set of pre-trained text-classification models, has the best performance based on different evaluation metrics.*\n",
    "*For this, we will use the method of TOPSIS - **T**echnique for **O**rder of **P**reference by **S**imilarity to **I**deal **S**olution*"
   ]
  },
  {
   "cell_type": "markdown",
   "metadata": {},
   "source": [
    "# Step 1: Importing Libraries"
   ]
  },
  {
   "cell_type": "code",
   "execution_count": 31,
   "metadata": {},
   "outputs": [],
   "source": [
    "from transformers import pipeline\n",
    "from sklearn.metrics import accuracy_score, precision_score, recall_score, f1_score, hamming_loss, cohen_kappa_score, log_loss\n",
    "import pandas as pd\n",
    "import numpy as np\n"
   ]
  },
  {
   "cell_type": "markdown",
   "metadata": {},
   "source": [
    "# Step 2: Importing Huggingface Models\n",
    "Here, 4 models based on text-classification are being imported:\n",
    "1. distilbert/distilbert-base-uncased-finetuned-sst-2-english\n",
    "2. lxyuan/distilbert-base-multilingual-cased-sentiments-student\n",
    "3. cardiffnlp/twitter-roberta-base-sentiment-latest\n",
    "4. siebert/sentiment-roberta-large-english"
   ]
  },
  {
   "cell_type": "code",
   "execution_count": 32,
   "metadata": {},
   "outputs": [
    {
     "name": "stderr",
     "output_type": "stream",
     "text": [
      "Some weights of the model checkpoint at cardiffnlp/twitter-roberta-base-sentiment-latest were not used when initializing RobertaForSequenceClassification: ['roberta.pooler.dense.bias', 'roberta.pooler.dense.weight']\n",
      "- This IS expected if you are initializing RobertaForSequenceClassification from the checkpoint of a model trained on another task or with another architecture (e.g. initializing a BertForSequenceClassification model from a BertForPreTraining model).\n",
      "- This IS NOT expected if you are initializing RobertaForSequenceClassification from the checkpoint of a model that you expect to be exactly identical (initializing a BertForSequenceClassification model from a BertForSequenceClassification model).\n"
     ]
    }
   ],
   "source": [
    "model_names = [\n",
    "    \"distilbert/distilbert-base-uncased-finetuned-sst-2-english\",\n",
    "    \"lxyuan/distilbert-base-multilingual-cased-sentiments-student\",\n",
    "    \"cardiffnlp/twitter-roberta-base-sentiment-latest\",\n",
    "    \"siebert/sentiment-roberta-large-english\"\n",
    "]\n",
    "\n",
    "models = []\n",
    "\n",
    "for model_name in model_names:\n",
    "    model = pipeline(model=model_name)\n",
    "    models.append(model)"
   ]
  },
  {
   "cell_type": "markdown",
   "metadata": {},
   "source": [
    "# Step 3: Importing the Dataset\n",
    "*We have created a sample dataset for the three different genres of the world, namely Education, Sports, Politics and Finance, in order to test the model for different metrics*"
   ]
  },
  {
   "cell_type": "code",
   "execution_count": 33,
   "metadata": {},
   "outputs": [],
   "source": [
    "education_df = pd.read_csv(\"Education.csv\")\n",
    "sports_df = pd.read_csv(\"Sports.csv\")\n",
    "politics_df = pd.read_csv(\"Politics.csv\")\n",
    "finance_df=pd.read_csv(\"Finance.csv\")"
   ]
  },
  {
   "cell_type": "code",
   "execution_count": 34,
   "metadata": {},
   "outputs": [
    {
     "data": {
      "text/html": [
       "<div>\n",
       "<style scoped>\n",
       "    .dataframe tbody tr th:only-of-type {\n",
       "        vertical-align: middle;\n",
       "    }\n",
       "\n",
       "    .dataframe tbody tr th {\n",
       "        vertical-align: top;\n",
       "    }\n",
       "\n",
       "    .dataframe thead th {\n",
       "        text-align: right;\n",
       "    }\n",
       "</style>\n",
       "<table border=\"1\" class=\"dataframe\">\n",
       "  <thead>\n",
       "    <tr style=\"text-align: right;\">\n",
       "      <th></th>\n",
       "      <th>Text</th>\n",
       "      <th>Label</th>\n",
       "    </tr>\n",
       "  </thead>\n",
       "  <tbody>\n",
       "    <tr>\n",
       "      <th>0</th>\n",
       "      <td>The impact of educational reforms remains unce...</td>\n",
       "      <td>positive</td>\n",
       "    </tr>\n",
       "    <tr>\n",
       "      <th>1</th>\n",
       "      <td>Critics argue that recent improvements in the ...</td>\n",
       "      <td>negative</td>\n",
       "    </tr>\n",
       "    <tr>\n",
       "      <th>2</th>\n",
       "      <td>Innovative teaching methods have led to unexpe...</td>\n",
       "      <td>positive</td>\n",
       "    </tr>\n",
       "    <tr>\n",
       "      <th>3</th>\n",
       "      <td>Despite budget constraints, the school has man...</td>\n",
       "      <td>positive</td>\n",
       "    </tr>\n",
       "    <tr>\n",
       "      <th>4</th>\n",
       "      <td>The true effectiveness of online learning plat...</td>\n",
       "      <td>negative</td>\n",
       "    </tr>\n",
       "  </tbody>\n",
       "</table>\n",
       "</div>"
      ],
      "text/plain": [
       "                                                Text     Label\n",
       "0  The impact of educational reforms remains unce...  positive\n",
       "1  Critics argue that recent improvements in the ...  negative\n",
       "2  Innovative teaching methods have led to unexpe...  positive\n",
       "3  Despite budget constraints, the school has man...  positive\n",
       "4  The true effectiveness of online learning plat...  negative"
      ]
     },
     "execution_count": 34,
     "metadata": {},
     "output_type": "execute_result"
    }
   ],
   "source": [
    "education_df.head()"
   ]
  },
  {
   "cell_type": "code",
   "execution_count": 35,
   "metadata": {},
   "outputs": [
    {
     "data": {
      "text/html": [
       "<div>\n",
       "<style scoped>\n",
       "    .dataframe tbody tr th:only-of-type {\n",
       "        vertical-align: middle;\n",
       "    }\n",
       "\n",
       "    .dataframe tbody tr th {\n",
       "        vertical-align: top;\n",
       "    }\n",
       "\n",
       "    .dataframe thead th {\n",
       "        text-align: right;\n",
       "    }\n",
       "</style>\n",
       "<table border=\"1\" class=\"dataframe\">\n",
       "  <thead>\n",
       "    <tr style=\"text-align: right;\">\n",
       "      <th></th>\n",
       "      <th>Text</th>\n",
       "      <th>Label</th>\n",
       "    </tr>\n",
       "  </thead>\n",
       "  <tbody>\n",
       "    <tr>\n",
       "      <th>0</th>\n",
       "      <td>The team's recent victories have raised suspic...</td>\n",
       "      <td>positive</td>\n",
       "    </tr>\n",
       "    <tr>\n",
       "      <th>1</th>\n",
       "      <td>Despite their recent loss, the team's morale r...</td>\n",
       "      <td>positive</td>\n",
       "    </tr>\n",
       "    <tr>\n",
       "      <th>2</th>\n",
       "      <td>Rumors of match-fixing have cast a shadow over...</td>\n",
       "      <td>negative</td>\n",
       "    </tr>\n",
       "    <tr>\n",
       "      <th>3</th>\n",
       "      <td>The unexpected resignation of the coach has le...</td>\n",
       "      <td>negative</td>\n",
       "    </tr>\n",
       "    <tr>\n",
       "      <th>4</th>\n",
       "      <td>Speculations about doping allegations have led...</td>\n",
       "      <td>negative</td>\n",
       "    </tr>\n",
       "  </tbody>\n",
       "</table>\n",
       "</div>"
      ],
      "text/plain": [
       "                                                Text     Label\n",
       "0  The team's recent victories have raised suspic...  positive\n",
       "1  Despite their recent loss, the team's morale r...  positive\n",
       "2  Rumors of match-fixing have cast a shadow over...  negative\n",
       "3  The unexpected resignation of the coach has le...  negative\n",
       "4  Speculations about doping allegations have led...  negative"
      ]
     },
     "execution_count": 35,
     "metadata": {},
     "output_type": "execute_result"
    }
   ],
   "source": [
    "sports_df.head()"
   ]
  },
  {
   "cell_type": "code",
   "execution_count": 36,
   "metadata": {},
   "outputs": [
    {
     "data": {
      "text/html": [
       "<div>\n",
       "<style scoped>\n",
       "    .dataframe tbody tr th:only-of-type {\n",
       "        vertical-align: middle;\n",
       "    }\n",
       "\n",
       "    .dataframe tbody tr th {\n",
       "        vertical-align: top;\n",
       "    }\n",
       "\n",
       "    .dataframe thead th {\n",
       "        text-align: right;\n",
       "    }\n",
       "</style>\n",
       "<table border=\"1\" class=\"dataframe\">\n",
       "  <thead>\n",
       "    <tr style=\"text-align: right;\">\n",
       "      <th></th>\n",
       "      <th>Text</th>\n",
       "      <th>Label</th>\n",
       "    </tr>\n",
       "  </thead>\n",
       "  <tbody>\n",
       "    <tr>\n",
       "      <th>0</th>\n",
       "      <td>The government's recent policies have received...</td>\n",
       "      <td>positive</td>\n",
       "    </tr>\n",
       "    <tr>\n",
       "      <th>1</th>\n",
       "      <td>Political analysts are divided on the long-ter...</td>\n",
       "      <td>negative</td>\n",
       "    </tr>\n",
       "    <tr>\n",
       "      <th>2</th>\n",
       "      <td>Efforts to promote unity among political facti...</td>\n",
       "      <td>positive</td>\n",
       "    </tr>\n",
       "    <tr>\n",
       "      <th>3</th>\n",
       "      <td>Despite allegations of corruption, the governm...</td>\n",
       "      <td>negative</td>\n",
       "    </tr>\n",
       "    <tr>\n",
       "      <th>4</th>\n",
       "      <td>The recent diplomatic initiatives have been me...</td>\n",
       "      <td>positive</td>\n",
       "    </tr>\n",
       "  </tbody>\n",
       "</table>\n",
       "</div>"
      ],
      "text/plain": [
       "                                                Text     Label\n",
       "0  The government's recent policies have received...  positive\n",
       "1  Political analysts are divided on the long-ter...  negative\n",
       "2  Efforts to promote unity among political facti...  positive\n",
       "3  Despite allegations of corruption, the governm...  negative\n",
       "4  The recent diplomatic initiatives have been me...  positive"
      ]
     },
     "execution_count": 36,
     "metadata": {},
     "output_type": "execute_result"
    }
   ],
   "source": [
    "politics_df.head()"
   ]
  },
  {
   "cell_type": "code",
   "execution_count": 37,
   "metadata": {},
   "outputs": [
    {
     "data": {
      "text/html": [
       "<div>\n",
       "<style scoped>\n",
       "    .dataframe tbody tr th:only-of-type {\n",
       "        vertical-align: middle;\n",
       "    }\n",
       "\n",
       "    .dataframe tbody tr th {\n",
       "        vertical-align: top;\n",
       "    }\n",
       "\n",
       "    .dataframe thead th {\n",
       "        text-align: right;\n",
       "    }\n",
       "</style>\n",
       "<table border=\"1\" class=\"dataframe\">\n",
       "  <thead>\n",
       "    <tr style=\"text-align: right;\">\n",
       "      <th></th>\n",
       "      <th>Text</th>\n",
       "      <th>Label</th>\n",
       "    </tr>\n",
       "  </thead>\n",
       "  <tbody>\n",
       "    <tr>\n",
       "      <th>0</th>\n",
       "      <td>The financial markets are influenced by a myri...</td>\n",
       "      <td>positive</td>\n",
       "    </tr>\n",
       "    <tr>\n",
       "      <th>1</th>\n",
       "      <td>Financial literacy is essential for making inf...</td>\n",
       "      <td>positive</td>\n",
       "    </tr>\n",
       "    <tr>\n",
       "      <th>2</th>\n",
       "      <td>The stock market can be volatile, with prices ...</td>\n",
       "      <td>positive</td>\n",
       "    </tr>\n",
       "    <tr>\n",
       "      <th>3</th>\n",
       "      <td>Financial regulations aim to protect investors...</td>\n",
       "      <td>positive</td>\n",
       "    </tr>\n",
       "    <tr>\n",
       "      <th>4</th>\n",
       "      <td>Access to credit and capital is essential for ...</td>\n",
       "      <td>positive</td>\n",
       "    </tr>\n",
       "  </tbody>\n",
       "</table>\n",
       "</div>"
      ],
      "text/plain": [
       "                                                Text     Label\n",
       "0  The financial markets are influenced by a myri...  positive\n",
       "1  Financial literacy is essential for making inf...  positive\n",
       "2  The stock market can be volatile, with prices ...  positive\n",
       "3  Financial regulations aim to protect investors...  positive\n",
       "4  Access to credit and capital is essential for ...  positive"
      ]
     },
     "execution_count": 37,
     "metadata": {},
     "output_type": "execute_result"
    }
   ],
   "source": [
    "finance_df.head()"
   ]
  },
  {
   "cell_type": "markdown",
   "metadata": {},
   "source": [
    "# Step 4: Extracting the test Labels\n",
    "*We need to extract the testing labels and convert them to 0's and 1's instead of \"Positive\" and \"Negative\"*"
   ]
  },
  {
   "cell_type": "code",
   "execution_count": 38,
   "metadata": {},
   "outputs": [],
   "source": [
    "df = [education_df,sports_df,politics_df,finance_df]"
   ]
  },
  {
   "cell_type": "markdown",
   "metadata": {},
   "source": [
    "# Step 5: Creating Metric Dataframes"
   ]
  },
  {
   "cell_type": "markdown",
   "metadata": {},
   "source": [
    "*Initializing empty dataframes to store the metrics obtained from the different models*"
   ]
  },
  {
   "cell_type": "code",
   "execution_count": 39,
   "metadata": {},
   "outputs": [],
   "source": [
    "education_result=pd.DataFrame(columns=['Model','Accuracy','Precision','Recall','F1_Score','Hamming_Loss', \"Cohen\\'s_Kappa\", \"Log_Loss\"], index=[0,1,2,3])\n",
    "sports_result=pd.DataFrame(columns=['Model','Accuracy','Precision','Recall','F1_Score','Hamming_Loss', \"Cohen\\'s_Kappa\", \"Log_Loss\"], index=[0,1,2,3])\n",
    "politics_result=pd.DataFrame(columns=['Model','Accuracy','Precision','Recall','F1_Score','Hamming_Loss', \"Cohen\\'s_Kappa\", \"Log_Loss\"], index=[0,1,2,3])\n",
    "finance_result=pd.DataFrame(columns=['Model','Accuracy','Precision','Recall','F1_Score','Hamming_Loss', \"Cohen\\'s_Kappa\", \"Log_Loss\"], index=[0,1,2,3])\n"
   ]
  },
  {
   "cell_type": "markdown",
   "metadata": {},
   "source": [
    "# Step 6: Testing the imported models on the created datasets"
   ]
  },
  {
   "cell_type": "markdown",
   "metadata": {},
   "source": [
    "*Accessing different dataframes and finding out the desired metrics for all the models specified above to store in their respective resultant dataframes*"
   ]
  },
  {
   "cell_type": "code",
   "execution_count": 40,
   "metadata": {},
   "outputs": [],
   "source": [
    "for idx,genre in enumerate(df, start=1):\n",
    "    \n",
    "    for i in range(len(models)):\n",
    "        \n",
    "        model_pred=[]\n",
    "\n",
    "        # Predicted labels\n",
    "        for str in genre['Text']:\n",
    "            model_pred.append(1 if models[i](str)[0]['label'].lower()==\"positive\" else 0)\n",
    "\n",
    "        # True Labels\n",
    "        model_actual = genre['Label'].apply(lambda x: {True:1, False:0}[x==\"positive\"])\n",
    "\n",
    "        # Metrics\n",
    "        accuracy = accuracy_score(model_actual, model_pred)\n",
    "        precision = precision_score(model_actual, model_pred)\n",
    "        recall = recall_score(model_actual, model_pred)\n",
    "        f1 = f1_score(model_actual, model_pred)\n",
    "        hamming = hamming_loss(model_actual, model_pred)\n",
    "        kappa = cohen_kappa_score(model_actual, model_pred)\n",
    "        ll = log_loss(model_actual, model_pred)\n",
    "\n",
    "        if idx==1:\n",
    "            # Education\n",
    "            education_result.loc[i] = [f\"Model {i+1}\", accuracy, precision, recall, f1, hamming, kappa, ll]\n",
    "        elif idx==2:\n",
    "            # Sports\n",
    "            sports_result.loc[i] = [f\"Model {i+1}\", accuracy, precision, recall, f1, hamming, kappa, ll]\n",
    "        elif idx==3:\n",
    "            # Politics\n",
    "            politics_result.loc[i] = [f\"Model {i+1}\", accuracy, precision, recall, f1, hamming, kappa, ll]\n",
    "        else:\n",
    "            # Finance\n",
    "            finance_result.loc[i] = [f\"Model {i+1}\", accuracy, precision, recall, f1, hamming, kappa, ll]"
   ]
  },
  {
   "cell_type": "code",
   "execution_count": 41,
   "metadata": {},
   "outputs": [
    {
     "data": {
      "text/html": [
       "<div>\n",
       "<style scoped>\n",
       "    .dataframe tbody tr th:only-of-type {\n",
       "        vertical-align: middle;\n",
       "    }\n",
       "\n",
       "    .dataframe tbody tr th {\n",
       "        vertical-align: top;\n",
       "    }\n",
       "\n",
       "    .dataframe thead th {\n",
       "        text-align: right;\n",
       "    }\n",
       "</style>\n",
       "<table border=\"1\" class=\"dataframe\">\n",
       "  <thead>\n",
       "    <tr style=\"text-align: right;\">\n",
       "      <th></th>\n",
       "      <th>Model</th>\n",
       "      <th>Accuracy</th>\n",
       "      <th>Precision</th>\n",
       "      <th>Recall</th>\n",
       "      <th>F1_Score</th>\n",
       "      <th>Hamming_Loss</th>\n",
       "      <th>Cohen's_Kappa</th>\n",
       "      <th>Log_Loss</th>\n",
       "    </tr>\n",
       "  </thead>\n",
       "  <tbody>\n",
       "    <tr>\n",
       "      <th>0</th>\n",
       "      <td>Model 1</td>\n",
       "      <td>0.576923</td>\n",
       "      <td>0.611111</td>\n",
       "      <td>0.423077</td>\n",
       "      <td>0.5</td>\n",
       "      <td>0.423077</td>\n",
       "      <td>0.153846</td>\n",
       "      <td>15.249238</td>\n",
       "    </tr>\n",
       "    <tr>\n",
       "      <th>1</th>\n",
       "      <td>Model 2</td>\n",
       "      <td>0.634615</td>\n",
       "      <td>0.6</td>\n",
       "      <td>0.807692</td>\n",
       "      <td>0.688525</td>\n",
       "      <td>0.365385</td>\n",
       "      <td>0.269231</td>\n",
       "      <td>13.169796</td>\n",
       "    </tr>\n",
       "    <tr>\n",
       "      <th>2</th>\n",
       "      <td>Model 3</td>\n",
       "      <td>0.634615</td>\n",
       "      <td>0.888889</td>\n",
       "      <td>0.307692</td>\n",
       "      <td>0.457143</td>\n",
       "      <td>0.365385</td>\n",
       "      <td>0.269231</td>\n",
       "      <td>13.169796</td>\n",
       "    </tr>\n",
       "    <tr>\n",
       "      <th>3</th>\n",
       "      <td>Model 4</td>\n",
       "      <td>0.673077</td>\n",
       "      <td>0.714286</td>\n",
       "      <td>0.576923</td>\n",
       "      <td>0.638298</td>\n",
       "      <td>0.326923</td>\n",
       "      <td>0.346154</td>\n",
       "      <td>11.783502</td>\n",
       "    </tr>\n",
       "  </tbody>\n",
       "</table>\n",
       "</div>"
      ],
      "text/plain": [
       "     Model  Accuracy Precision    Recall  F1_Score Hamming_Loss Cohen's_Kappa  \\\n",
       "0  Model 1  0.576923  0.611111  0.423077       0.5     0.423077      0.153846   \n",
       "1  Model 2  0.634615       0.6  0.807692  0.688525     0.365385      0.269231   \n",
       "2  Model 3  0.634615  0.888889  0.307692  0.457143     0.365385      0.269231   \n",
       "3  Model 4  0.673077  0.714286  0.576923  0.638298     0.326923      0.346154   \n",
       "\n",
       "    Log_Loss  \n",
       "0  15.249238  \n",
       "1  13.169796  \n",
       "2  13.169796  \n",
       "3  11.783502  "
      ]
     },
     "execution_count": 41,
     "metadata": {},
     "output_type": "execute_result"
    }
   ],
   "source": [
    "education_result"
   ]
  },
  {
   "cell_type": "code",
   "execution_count": 42,
   "metadata": {},
   "outputs": [
    {
     "data": {
      "text/html": [
       "<div>\n",
       "<style scoped>\n",
       "    .dataframe tbody tr th:only-of-type {\n",
       "        vertical-align: middle;\n",
       "    }\n",
       "\n",
       "    .dataframe tbody tr th {\n",
       "        vertical-align: top;\n",
       "    }\n",
       "\n",
       "    .dataframe thead th {\n",
       "        text-align: right;\n",
       "    }\n",
       "</style>\n",
       "<table border=\"1\" class=\"dataframe\">\n",
       "  <thead>\n",
       "    <tr style=\"text-align: right;\">\n",
       "      <th></th>\n",
       "      <th>Model</th>\n",
       "      <th>Accuracy</th>\n",
       "      <th>Precision</th>\n",
       "      <th>Recall</th>\n",
       "      <th>F1_Score</th>\n",
       "      <th>Hamming_Loss</th>\n",
       "      <th>Cohen's_Kappa</th>\n",
       "      <th>Log_Loss</th>\n",
       "    </tr>\n",
       "  </thead>\n",
       "  <tbody>\n",
       "    <tr>\n",
       "      <th>0</th>\n",
       "      <td>Model 1</td>\n",
       "      <td>0.839286</td>\n",
       "      <td>0.827586</td>\n",
       "      <td>0.857143</td>\n",
       "      <td>0.842105</td>\n",
       "      <td>0.160714</td>\n",
       "      <td>0.678571</td>\n",
       "      <td>5.79273</td>\n",
       "    </tr>\n",
       "    <tr>\n",
       "      <th>1</th>\n",
       "      <td>Model 2</td>\n",
       "      <td>0.803571</td>\n",
       "      <td>0.742857</td>\n",
       "      <td>0.928571</td>\n",
       "      <td>0.825397</td>\n",
       "      <td>0.196429</td>\n",
       "      <td>0.607143</td>\n",
       "      <td>7.080003</td>\n",
       "    </tr>\n",
       "    <tr>\n",
       "      <th>2</th>\n",
       "      <td>Model 3</td>\n",
       "      <td>0.892857</td>\n",
       "      <td>1.0</td>\n",
       "      <td>0.785714</td>\n",
       "      <td>0.88</td>\n",
       "      <td>0.107143</td>\n",
       "      <td>0.785714</td>\n",
       "      <td>3.86182</td>\n",
       "    </tr>\n",
       "    <tr>\n",
       "      <th>3</th>\n",
       "      <td>Model 4</td>\n",
       "      <td>0.910714</td>\n",
       "      <td>0.896552</td>\n",
       "      <td>0.928571</td>\n",
       "      <td>0.912281</td>\n",
       "      <td>0.089286</td>\n",
       "      <td>0.821429</td>\n",
       "      <td>3.218183</td>\n",
       "    </tr>\n",
       "  </tbody>\n",
       "</table>\n",
       "</div>"
      ],
      "text/plain": [
       "     Model  Accuracy Precision    Recall  F1_Score Hamming_Loss Cohen's_Kappa  \\\n",
       "0  Model 1  0.839286  0.827586  0.857143  0.842105     0.160714      0.678571   \n",
       "1  Model 2  0.803571  0.742857  0.928571  0.825397     0.196429      0.607143   \n",
       "2  Model 3  0.892857       1.0  0.785714      0.88     0.107143      0.785714   \n",
       "3  Model 4  0.910714  0.896552  0.928571  0.912281     0.089286      0.821429   \n",
       "\n",
       "   Log_Loss  \n",
       "0   5.79273  \n",
       "1  7.080003  \n",
       "2   3.86182  \n",
       "3  3.218183  "
      ]
     },
     "execution_count": 42,
     "metadata": {},
     "output_type": "execute_result"
    }
   ],
   "source": [
    "sports_result"
   ]
  },
  {
   "cell_type": "code",
   "execution_count": 43,
   "metadata": {},
   "outputs": [
    {
     "data": {
      "text/html": [
       "<div>\n",
       "<style scoped>\n",
       "    .dataframe tbody tr th:only-of-type {\n",
       "        vertical-align: middle;\n",
       "    }\n",
       "\n",
       "    .dataframe tbody tr th {\n",
       "        vertical-align: top;\n",
       "    }\n",
       "\n",
       "    .dataframe thead th {\n",
       "        text-align: right;\n",
       "    }\n",
       "</style>\n",
       "<table border=\"1\" class=\"dataframe\">\n",
       "  <thead>\n",
       "    <tr style=\"text-align: right;\">\n",
       "      <th></th>\n",
       "      <th>Model</th>\n",
       "      <th>Accuracy</th>\n",
       "      <th>Precision</th>\n",
       "      <th>Recall</th>\n",
       "      <th>F1_Score</th>\n",
       "      <th>Hamming_Loss</th>\n",
       "      <th>Cohen's_Kappa</th>\n",
       "      <th>Log_Loss</th>\n",
       "    </tr>\n",
       "  </thead>\n",
       "  <tbody>\n",
       "    <tr>\n",
       "      <th>0</th>\n",
       "      <td>Model 1</td>\n",
       "      <td>0.849057</td>\n",
       "      <td>0.947368</td>\n",
       "      <td>0.72</td>\n",
       "      <td>0.818182</td>\n",
       "      <td>0.150943</td>\n",
       "      <td>0.693198</td>\n",
       "      <td>5.440551</td>\n",
       "    </tr>\n",
       "    <tr>\n",
       "      <th>1</th>\n",
       "      <td>Model 2</td>\n",
       "      <td>0.754717</td>\n",
       "      <td>0.772727</td>\n",
       "      <td>0.68</td>\n",
       "      <td>0.723404</td>\n",
       "      <td>0.245283</td>\n",
       "      <td>0.504673</td>\n",
       "      <td>8.840896</td>\n",
       "    </tr>\n",
       "    <tr>\n",
       "      <th>2</th>\n",
       "      <td>Model 3</td>\n",
       "      <td>0.54717</td>\n",
       "      <td>1.0</td>\n",
       "      <td>0.04</td>\n",
       "      <td>0.076923</td>\n",
       "      <td>0.45283</td>\n",
       "      <td>0.042169</td>\n",
       "      <td>16.321654</td>\n",
       "    </tr>\n",
       "    <tr>\n",
       "      <th>3</th>\n",
       "      <td>Model 4</td>\n",
       "      <td>0.924528</td>\n",
       "      <td>0.92</td>\n",
       "      <td>0.92</td>\n",
       "      <td>0.92</td>\n",
       "      <td>0.075472</td>\n",
       "      <td>0.848571</td>\n",
       "      <td>2.720276</td>\n",
       "    </tr>\n",
       "  </tbody>\n",
       "</table>\n",
       "</div>"
      ],
      "text/plain": [
       "     Model  Accuracy Precision Recall  F1_Score Hamming_Loss Cohen's_Kappa  \\\n",
       "0  Model 1  0.849057  0.947368   0.72  0.818182     0.150943      0.693198   \n",
       "1  Model 2  0.754717  0.772727   0.68  0.723404     0.245283      0.504673   \n",
       "2  Model 3   0.54717       1.0   0.04  0.076923      0.45283      0.042169   \n",
       "3  Model 4  0.924528      0.92   0.92      0.92     0.075472      0.848571   \n",
       "\n",
       "    Log_Loss  \n",
       "0   5.440551  \n",
       "1   8.840896  \n",
       "2  16.321654  \n",
       "3   2.720276  "
      ]
     },
     "execution_count": 43,
     "metadata": {},
     "output_type": "execute_result"
    }
   ],
   "source": [
    "politics_result"
   ]
  },
  {
   "cell_type": "code",
   "execution_count": 44,
   "metadata": {},
   "outputs": [
    {
     "data": {
      "text/html": [
       "<div>\n",
       "<style scoped>\n",
       "    .dataframe tbody tr th:only-of-type {\n",
       "        vertical-align: middle;\n",
       "    }\n",
       "\n",
       "    .dataframe tbody tr th {\n",
       "        vertical-align: top;\n",
       "    }\n",
       "\n",
       "    .dataframe thead th {\n",
       "        text-align: right;\n",
       "    }\n",
       "</style>\n",
       "<table border=\"1\" class=\"dataframe\">\n",
       "  <thead>\n",
       "    <tr style=\"text-align: right;\">\n",
       "      <th></th>\n",
       "      <th>Model</th>\n",
       "      <th>Accuracy</th>\n",
       "      <th>Precision</th>\n",
       "      <th>Recall</th>\n",
       "      <th>F1_Score</th>\n",
       "      <th>Hamming_Loss</th>\n",
       "      <th>Cohen's_Kappa</th>\n",
       "      <th>Log_Loss</th>\n",
       "    </tr>\n",
       "  </thead>\n",
       "  <tbody>\n",
       "    <tr>\n",
       "      <th>0</th>\n",
       "      <td>Model 1</td>\n",
       "      <td>0.8125</td>\n",
       "      <td>0.903226</td>\n",
       "      <td>0.823529</td>\n",
       "      <td>0.861538</td>\n",
       "      <td>0.1875</td>\n",
       "      <td>0.573123</td>\n",
       "      <td>6.758185</td>\n",
       "    </tr>\n",
       "    <tr>\n",
       "      <th>1</th>\n",
       "      <td>Model 2</td>\n",
       "      <td>0.770833</td>\n",
       "      <td>0.870968</td>\n",
       "      <td>0.794118</td>\n",
       "      <td>0.830769</td>\n",
       "      <td>0.229167</td>\n",
       "      <td>0.478261</td>\n",
       "      <td>8.260004</td>\n",
       "    </tr>\n",
       "    <tr>\n",
       "      <th>2</th>\n",
       "      <td>Model 3</td>\n",
       "      <td>0.416667</td>\n",
       "      <td>1.0</td>\n",
       "      <td>0.176471</td>\n",
       "      <td>0.3</td>\n",
       "      <td>0.583333</td>\n",
       "      <td>0.111111</td>\n",
       "      <td>21.025464</td>\n",
       "    </tr>\n",
       "    <tr>\n",
       "      <th>3</th>\n",
       "      <td>Model 4</td>\n",
       "      <td>0.895833</td>\n",
       "      <td>0.914286</td>\n",
       "      <td>0.941176</td>\n",
       "      <td>0.927536</td>\n",
       "      <td>0.104167</td>\n",
       "      <td>0.742489</td>\n",
       "      <td>3.754547</td>\n",
       "    </tr>\n",
       "  </tbody>\n",
       "</table>\n",
       "</div>"
      ],
      "text/plain": [
       "     Model  Accuracy Precision    Recall  F1_Score Hamming_Loss Cohen's_Kappa  \\\n",
       "0  Model 1    0.8125  0.903226  0.823529  0.861538       0.1875      0.573123   \n",
       "1  Model 2  0.770833  0.870968  0.794118  0.830769     0.229167      0.478261   \n",
       "2  Model 3  0.416667       1.0  0.176471       0.3     0.583333      0.111111   \n",
       "3  Model 4  0.895833  0.914286  0.941176  0.927536     0.104167      0.742489   \n",
       "\n",
       "    Log_Loss  \n",
       "0   6.758185  \n",
       "1   8.260004  \n",
       "2  21.025464  \n",
       "3   3.754547  "
      ]
     },
     "execution_count": 44,
     "metadata": {},
     "output_type": "execute_result"
    }
   ],
   "source": [
    "finance_result"
   ]
  },
  {
   "cell_type": "markdown",
   "metadata": {},
   "source": [
    "# Step 7: Calculating the Performace of model using TOPSIS\n",
    "\n",
    "\n",
    "### TOPSIS Code"
   ]
  },
  {
   "cell_type": "markdown",
   "metadata": {},
   "source": [
    "*Function for Normalizing the input dataframe*"
   ]
  },
  {
   "cell_type": "code",
   "execution_count": 45,
   "metadata": {},
   "outputs": [],
   "source": [
    "def normalize(df):\n",
    "    divisor = df.apply(lambda x: x**2).apply(sum).apply(lambda x: x**0.5)\n",
    "    df = df.div(divisor)\n",
    "    return df"
   ]
  },
  {
   "cell_type": "markdown",
   "metadata": {},
   "source": [
    "*Function for Weighted Normalization*"
   ]
  },
  {
   "cell_type": "code",
   "execution_count": 46,
   "metadata": {},
   "outputs": [],
   "source": [
    "def weight_normalized(df, weights):\n",
    "    df = df.mul(weights)\n",
    "    return df"
   ]
  },
  {
   "cell_type": "markdown",
   "metadata": {},
   "source": [
    "*Function for finding out the best and worst ideal outputs from the given dataframes*"
   ]
  },
  {
   "cell_type": "code",
   "execution_count": 47,
   "metadata": {},
   "outputs": [],
   "source": [
    "def best_worst(df, impacts):\n",
    "    best=[]\n",
    "    worst=[]\n",
    "    for i in range(len(impacts)):\n",
    "        if impacts[i]=='+':\n",
    "            best.append(max(df.iloc[:,i]))\n",
    "            worst.append(min(df.iloc[:,i]))\n",
    "        else:\n",
    "            best.append(min(df.iloc[:,i]))\n",
    "            worst.append(max(df.iloc[:,i]))\n",
    "    return (best,worst)"
   ]
  },
  {
   "cell_type": "markdown",
   "metadata": {},
   "source": [
    "*Function for calculating the performance by finding out the TOPSIS Score*"
   ]
  },
  {
   "cell_type": "code",
   "execution_count": 48,
   "metadata": {},
   "outputs": [],
   "source": [
    "def calc_performance(df, best, worst):\n",
    "    s_best=[]\n",
    "    s_worst=[]\n",
    "    for i in range(len(df)):\n",
    "        s_best.append((sum((df.loc[i] - best)**2))**0.5)\n",
    "        s_worst.append((sum((df.loc[i] - worst)**2))**0.5)\n",
    "    s_total = [i+j for i,j in zip(s_worst,s_best)]\n",
    "    performance = [i/j for i,j in zip(s_worst,s_total)]\n",
    "    df.loc[:,'Topsis Score'] = performance"
   ]
  },
  {
   "cell_type": "markdown",
   "metadata": {},
   "source": [
    "*Function for ranking the Models based on the TOPSIS Scores*"
   ]
  },
  {
   "cell_type": "code",
   "execution_count": 49,
   "metadata": {},
   "outputs": [],
   "source": [
    "def rank(df):\n",
    "    sorted_array = df.loc[:,'Topsis Score'].argsort()\n",
    "    ranks = np.empty_like(sorted_array)\n",
    "    ranks[sorted_array] = np.arange(len(sorted_array))\n",
    "    n=len(sorted_array)\n",
    "    ranks = [n-i for i in ranks]\n",
    "    df.loc[:,'Rank'] = ranks"
   ]
  },
  {
   "cell_type": "markdown",
   "metadata": {},
   "source": [
    "*Final Function for TOPSIS which calls all the above defined functions*"
   ]
  },
  {
   "cell_type": "code",
   "execution_count": 50,
   "metadata": {},
   "outputs": [],
   "source": [
    "def topsis(input, weights, impacts):\n",
    "    df=input.iloc[:,1:]\n",
    "\n",
    "    df = normalize(df)\n",
    "    df = weight_normalized(df,weights)\n",
    "\n",
    "    (best,worst) = best_worst(df,impacts)\n",
    "    calc_performance(df,best,worst)\n",
    "    rank(df)\n",
    "    return df"
   ]
  },
  {
   "cell_type": "markdown",
   "metadata": {},
   "source": [
    "*Initializing the weights and impacts accordingly and calling the TOPSIS function for all the four genres, namely- Education, Sports, Politics and Finance*"
   ]
  },
  {
   "cell_type": "code",
   "execution_count": 51,
   "metadata": {},
   "outputs": [],
   "source": [
    "weights=[1,1,1,1,1,1,1]\n",
    "impacts = [\"+\", \"+\", \"+\", \"+\",\"-\", \"+\", \"-\"]\n",
    "result1 = topsis(education_result, weights, impacts)\n",
    "result2 = topsis(sports_result, weights, impacts)\n",
    "result3 = topsis(politics_result, weights, impacts)\n",
    "result4 = topsis(finance_result, weights, impacts)"
   ]
  },
  {
   "cell_type": "markdown",
   "metadata": {},
   "source": [
    "*Inserting the initial column of models*"
   ]
  },
  {
   "cell_type": "code",
   "execution_count": 52,
   "metadata": {},
   "outputs": [],
   "source": [
    "result1.insert(0,\"Model\",education_result['Model'])\n",
    "result2.insert(0,\"Model\",sports_result['Model'])\n",
    "result3.insert(0,\"Model\",politics_result['Model'])\n",
    "result4.insert(0,\"Model\",finance_result['Model'])"
   ]
  },
  {
   "cell_type": "markdown",
   "metadata": {},
   "source": [
    "# Step 8: Analyzing the Outputs\n",
    "*Different domains are tested for Topsis Score with the following results*"
   ]
  },
  {
   "cell_type": "markdown",
   "metadata": {},
   "source": [
    "## 1. Education"
   ]
  },
  {
   "cell_type": "code",
   "execution_count": 53,
   "metadata": {},
   "outputs": [
    {
     "data": {
      "text/html": [
       "<div>\n",
       "<style scoped>\n",
       "    .dataframe tbody tr th:only-of-type {\n",
       "        vertical-align: middle;\n",
       "    }\n",
       "\n",
       "    .dataframe tbody tr th {\n",
       "        vertical-align: top;\n",
       "    }\n",
       "\n",
       "    .dataframe thead th {\n",
       "        text-align: right;\n",
       "    }\n",
       "</style>\n",
       "<table border=\"1\" class=\"dataframe\">\n",
       "  <thead>\n",
       "    <tr style=\"text-align: right;\">\n",
       "      <th></th>\n",
       "      <th>Model</th>\n",
       "      <th>Accuracy</th>\n",
       "      <th>Precision</th>\n",
       "      <th>Recall</th>\n",
       "      <th>F1_Score</th>\n",
       "      <th>Hamming_Loss</th>\n",
       "      <th>Cohen's_Kappa</th>\n",
       "      <th>Log_Loss</th>\n",
       "      <th>Topsis Score</th>\n",
       "      <th>Rank</th>\n",
       "    </tr>\n",
       "  </thead>\n",
       "  <tbody>\n",
       "    <tr>\n",
       "      <th>0</th>\n",
       "      <td>Model 1</td>\n",
       "      <td>0.457336</td>\n",
       "      <td>0.428517</td>\n",
       "      <td>0.377075</td>\n",
       "      <td>0.431859</td>\n",
       "      <td>0.568987</td>\n",
       "      <td>0.286446</td>\n",
       "      <td>0.568987</td>\n",
       "      <td>0.156381</td>\n",
       "      <td>4</td>\n",
       "    </tr>\n",
       "    <tr>\n",
       "      <th>1</th>\n",
       "      <td>Model 2</td>\n",
       "      <td>0.50307</td>\n",
       "      <td>0.420725</td>\n",
       "      <td>0.719871</td>\n",
       "      <td>0.59469</td>\n",
       "      <td>0.491398</td>\n",
       "      <td>0.50128</td>\n",
       "      <td>0.491398</td>\n",
       "      <td>0.677306</td>\n",
       "      <td>1</td>\n",
       "    </tr>\n",
       "    <tr>\n",
       "      <th>2</th>\n",
       "      <td>Model 3</td>\n",
       "      <td>0.50307</td>\n",
       "      <td>0.623297</td>\n",
       "      <td>0.274236</td>\n",
       "      <td>0.394842</td>\n",
       "      <td>0.491398</td>\n",
       "      <td>0.50128</td>\n",
       "      <td>0.491398</td>\n",
       "      <td>0.381939</td>\n",
       "      <td>3</td>\n",
       "    </tr>\n",
       "    <tr>\n",
       "      <th>3</th>\n",
       "      <td>Model 4</td>\n",
       "      <td>0.533559</td>\n",
       "      <td>0.500864</td>\n",
       "      <td>0.514193</td>\n",
       "      <td>0.551309</td>\n",
       "      <td>0.439672</td>\n",
       "      <td>0.644503</td>\n",
       "      <td>0.439672</td>\n",
       "      <td>0.675294</td>\n",
       "      <td>2</td>\n",
       "    </tr>\n",
       "  </tbody>\n",
       "</table>\n",
       "</div>"
      ],
      "text/plain": [
       "     Model  Accuracy Precision    Recall  F1_Score Hamming_Loss Cohen's_Kappa  \\\n",
       "0  Model 1  0.457336  0.428517  0.377075  0.431859     0.568987      0.286446   \n",
       "1  Model 2   0.50307  0.420725  0.719871   0.59469     0.491398       0.50128   \n",
       "2  Model 3   0.50307  0.623297  0.274236  0.394842     0.491398       0.50128   \n",
       "3  Model 4  0.533559  0.500864  0.514193  0.551309     0.439672      0.644503   \n",
       "\n",
       "   Log_Loss  Topsis Score  Rank  \n",
       "0  0.568987      0.156381     4  \n",
       "1  0.491398      0.677306     1  \n",
       "2  0.491398      0.381939     3  \n",
       "3  0.439672      0.675294     2  "
      ]
     },
     "execution_count": 53,
     "metadata": {},
     "output_type": "execute_result"
    }
   ],
   "source": [
    "result1"
   ]
  },
  {
   "cell_type": "markdown",
   "metadata": {},
   "source": [
    "*In this domain, we can clearly observe that Model 2 has the final rank 1 based on the highest Topsis Score of 0.677. Hence, the best model in this domain is **Model2 - lxyuan/distilbert-base-multilingual-cased-sentiments-student***\n",
    "\n",
    "## 2. Sports"
   ]
  },
  {
   "cell_type": "code",
   "execution_count": 54,
   "metadata": {},
   "outputs": [
    {
     "data": {
      "text/html": [
       "<div>\n",
       "<style scoped>\n",
       "    .dataframe tbody tr th:only-of-type {\n",
       "        vertical-align: middle;\n",
       "    }\n",
       "\n",
       "    .dataframe tbody tr th {\n",
       "        vertical-align: top;\n",
       "    }\n",
       "\n",
       "    .dataframe thead th {\n",
       "        text-align: right;\n",
       "    }\n",
       "</style>\n",
       "<table border=\"1\" class=\"dataframe\">\n",
       "  <thead>\n",
       "    <tr style=\"text-align: right;\">\n",
       "      <th></th>\n",
       "      <th>Model</th>\n",
       "      <th>Accuracy</th>\n",
       "      <th>Precision</th>\n",
       "      <th>Recall</th>\n",
       "      <th>F1_Score</th>\n",
       "      <th>Hamming_Loss</th>\n",
       "      <th>Cohen's_Kappa</th>\n",
       "      <th>Log_Loss</th>\n",
       "      <th>Topsis Score</th>\n",
       "      <th>Rank</th>\n",
       "    </tr>\n",
       "  </thead>\n",
       "  <tbody>\n",
       "    <tr>\n",
       "      <th>0</th>\n",
       "      <td>Model 1</td>\n",
       "      <td>0.486453</td>\n",
       "      <td>0.474611</td>\n",
       "      <td>0.488678</td>\n",
       "      <td>0.486427</td>\n",
       "      <td>0.554964</td>\n",
       "      <td>0.465916</td>\n",
       "      <td>0.554964</td>\n",
       "      <td>0.335874</td>\n",
       "      <td>3</td>\n",
       "    </tr>\n",
       "    <tr>\n",
       "      <th>1</th>\n",
       "      <td>Model 2</td>\n",
       "      <td>0.465753</td>\n",
       "      <td>0.42602</td>\n",
       "      <td>0.529401</td>\n",
       "      <td>0.476775</td>\n",
       "      <td>0.678289</td>\n",
       "      <td>0.416872</td>\n",
       "      <td>0.678289</td>\n",
       "      <td>0.125254</td>\n",
       "      <td>4</td>\n",
       "    </tr>\n",
       "    <tr>\n",
       "      <th>2</th>\n",
       "      <td>Model 3</td>\n",
       "      <td>0.517503</td>\n",
       "      <td>0.573488</td>\n",
       "      <td>0.447955</td>\n",
       "      <td>0.508316</td>\n",
       "      <td>0.369976</td>\n",
       "      <td>0.539481</td>\n",
       "      <td>0.369976</td>\n",
       "      <td>0.795196</td>\n",
       "      <td>2</td>\n",
       "    </tr>\n",
       "    <tr>\n",
       "      <th>3</th>\n",
       "      <td>Model 4</td>\n",
       "      <td>0.527853</td>\n",
       "      <td>0.514162</td>\n",
       "      <td>0.529401</td>\n",
       "      <td>0.526962</td>\n",
       "      <td>0.308313</td>\n",
       "      <td>0.564003</td>\n",
       "      <td>0.308313</td>\n",
       "      <td>0.904564</td>\n",
       "      <td>1</td>\n",
       "    </tr>\n",
       "  </tbody>\n",
       "</table>\n",
       "</div>"
      ],
      "text/plain": [
       "     Model  Accuracy Precision    Recall  F1_Score Hamming_Loss Cohen's_Kappa  \\\n",
       "0  Model 1  0.486453  0.474611  0.488678  0.486427     0.554964      0.465916   \n",
       "1  Model 2  0.465753   0.42602  0.529401  0.476775     0.678289      0.416872   \n",
       "2  Model 3  0.517503  0.573488  0.447955  0.508316     0.369976      0.539481   \n",
       "3  Model 4  0.527853  0.514162  0.529401  0.526962     0.308313      0.564003   \n",
       "\n",
       "   Log_Loss  Topsis Score  Rank  \n",
       "0  0.554964      0.335874     3  \n",
       "1  0.678289      0.125254     4  \n",
       "2  0.369976      0.795196     2  \n",
       "3  0.308313      0.904564     1  "
      ]
     },
     "execution_count": 54,
     "metadata": {},
     "output_type": "execute_result"
    }
   ],
   "source": [
    "result2"
   ]
  },
  {
   "cell_type": "markdown",
   "metadata": {},
   "source": [
    "*In this domain, we can clearly observe that Model 4 has the final rank 1 based on the highest Topsis Score of 0.904. Hence, the best model in this domain is **Model4 - siebert/sentiment-roberta-large-english***\n",
    "\n",
    "## 3. Politics"
   ]
  },
  {
   "cell_type": "code",
   "execution_count": 55,
   "metadata": {},
   "outputs": [
    {
     "data": {
      "text/html": [
       "<div>\n",
       "<style scoped>\n",
       "    .dataframe tbody tr th:only-of-type {\n",
       "        vertical-align: middle;\n",
       "    }\n",
       "\n",
       "    .dataframe tbody tr th {\n",
       "        vertical-align: top;\n",
       "    }\n",
       "\n",
       "    .dataframe thead th {\n",
       "        text-align: right;\n",
       "    }\n",
       "</style>\n",
       "<table border=\"1\" class=\"dataframe\">\n",
       "  <thead>\n",
       "    <tr style=\"text-align: right;\">\n",
       "      <th></th>\n",
       "      <th>Model</th>\n",
       "      <th>Accuracy</th>\n",
       "      <th>Precision</th>\n",
       "      <th>Recall</th>\n",
       "      <th>F1_Score</th>\n",
       "      <th>Hamming_Loss</th>\n",
       "      <th>Cohen's_Kappa</th>\n",
       "      <th>Log_Loss</th>\n",
       "      <th>Topsis Score</th>\n",
       "      <th>Rank</th>\n",
       "    </tr>\n",
       "  </thead>\n",
       "  <tbody>\n",
       "    <tr>\n",
       "      <th>0</th>\n",
       "      <td>Model 1</td>\n",
       "      <td>0.543036</td>\n",
       "      <td>0.518298</td>\n",
       "      <td>0.532414</td>\n",
       "      <td>0.572134</td>\n",
       "      <td>0.278524</td>\n",
       "      <td>0.574271</td>\n",
       "      <td>0.278524</td>\n",
       "      <td>0.806230</td>\n",
       "      <td>2</td>\n",
       "    </tr>\n",
       "    <tr>\n",
       "      <th>1</th>\n",
       "      <td>Model 2</td>\n",
       "      <td>0.482699</td>\n",
       "      <td>0.422753</td>\n",
       "      <td>0.502835</td>\n",
       "      <td>0.505858</td>\n",
       "      <td>0.452602</td>\n",
       "      <td>0.41809</td>\n",
       "      <td>0.452602</td>\n",
       "      <td>0.612326</td>\n",
       "      <td>3</td>\n",
       "    </tr>\n",
       "    <tr>\n",
       "      <th>2</th>\n",
       "      <td>Model 3</td>\n",
       "      <td>0.349957</td>\n",
       "      <td>0.547093</td>\n",
       "      <td>0.029579</td>\n",
       "      <td>0.05379</td>\n",
       "      <td>0.835573</td>\n",
       "      <td>0.034934</td>\n",
       "      <td>0.835573</td>\n",
       "      <td>0.076622</td>\n",
       "      <td>4</td>\n",
       "    </tr>\n",
       "    <tr>\n",
       "      <th>3</th>\n",
       "      <td>Model 4</td>\n",
       "      <td>0.591306</td>\n",
       "      <td>0.503325</td>\n",
       "      <td>0.680307</td>\n",
       "      <td>0.643333</td>\n",
       "      <td>0.139262</td>\n",
       "      <td>0.702988</td>\n",
       "      <td>0.139262</td>\n",
       "      <td>0.971660</td>\n",
       "      <td>1</td>\n",
       "    </tr>\n",
       "  </tbody>\n",
       "</table>\n",
       "</div>"
      ],
      "text/plain": [
       "     Model  Accuracy Precision    Recall  F1_Score Hamming_Loss Cohen's_Kappa  \\\n",
       "0  Model 1  0.543036  0.518298  0.532414  0.572134     0.278524      0.574271   \n",
       "1  Model 2  0.482699  0.422753  0.502835  0.505858     0.452602       0.41809   \n",
       "2  Model 3  0.349957  0.547093  0.029579   0.05379     0.835573      0.034934   \n",
       "3  Model 4  0.591306  0.503325  0.680307  0.643333     0.139262      0.702988   \n",
       "\n",
       "   Log_Loss  Topsis Score  Rank  \n",
       "0  0.278524      0.806230     2  \n",
       "1  0.452602      0.612326     3  \n",
       "2  0.835573      0.076622     4  \n",
       "3  0.139262      0.971660     1  "
      ]
     },
     "execution_count": 55,
     "metadata": {},
     "output_type": "execute_result"
    }
   ],
   "source": [
    "result3"
   ]
  },
  {
   "cell_type": "markdown",
   "metadata": {},
   "source": [
    "*In this domain, we can clearly observe that Model 4 has the final rank 1 based on the highest Topsis Score of 0.971. Hence, the best model in this domain is **Model4 - siebert/sentiment-roberta-large-english***\n",
    "\n",
    "## 4. Finance"
   ]
  },
  {
   "cell_type": "code",
   "execution_count": 56,
   "metadata": {},
   "outputs": [
    {
     "data": {
      "text/html": [
       "<div>\n",
       "<style scoped>\n",
       "    .dataframe tbody tr th:only-of-type {\n",
       "        vertical-align: middle;\n",
       "    }\n",
       "\n",
       "    .dataframe tbody tr th {\n",
       "        vertical-align: top;\n",
       "    }\n",
       "\n",
       "    .dataframe thead th {\n",
       "        text-align: right;\n",
       "    }\n",
       "</style>\n",
       "<table border=\"1\" class=\"dataframe\">\n",
       "  <thead>\n",
       "    <tr style=\"text-align: right;\">\n",
       "      <th></th>\n",
       "      <th>Model</th>\n",
       "      <th>Accuracy</th>\n",
       "      <th>Precision</th>\n",
       "      <th>Recall</th>\n",
       "      <th>F1_Score</th>\n",
       "      <th>Hamming_Loss</th>\n",
       "      <th>Cohen's_Kappa</th>\n",
       "      <th>Log_Loss</th>\n",
       "      <th>Topsis Score</th>\n",
       "      <th>Rank</th>\n",
       "    </tr>\n",
       "  </thead>\n",
       "  <tbody>\n",
       "    <tr>\n",
       "      <th>0</th>\n",
       "      <td>Model 1</td>\n",
       "      <td>0.544033</td>\n",
       "      <td>0.489101</td>\n",
       "      <td>0.551999</td>\n",
       "      <td>0.55813</td>\n",
       "      <td>0.283052</td>\n",
       "      <td>0.541347</td>\n",
       "      <td>0.283052</td>\n",
       "      <td>0.810146</td>\n",
       "      <td>2</td>\n",
       "    </tr>\n",
       "    <tr>\n",
       "      <th>1</th>\n",
       "      <td>Model 2</td>\n",
       "      <td>0.516134</td>\n",
       "      <td>0.471633</td>\n",
       "      <td>0.532285</td>\n",
       "      <td>0.538197</td>\n",
       "      <td>0.345953</td>\n",
       "      <td>0.451745</td>\n",
       "      <td>0.345953</td>\n",
       "      <td>0.718670</td>\n",
       "      <td>3</td>\n",
       "    </tr>\n",
       "    <tr>\n",
       "      <th>2</th>\n",
       "      <td>Model 3</td>\n",
       "      <td>0.278991</td>\n",
       "      <td>0.541505</td>\n",
       "      <td>0.118285</td>\n",
       "      <td>0.194349</td>\n",
       "      <td>0.880608</td>\n",
       "      <td>0.104951</td>\n",
       "      <td>0.880608</td>\n",
       "      <td>0.047850</td>\n",
       "      <td>4</td>\n",
       "    </tr>\n",
       "    <tr>\n",
       "      <th>3</th>\n",
       "      <td>Model 4</td>\n",
       "      <td>0.599831</td>\n",
       "      <td>0.49509</td>\n",
       "      <td>0.630856</td>\n",
       "      <td>0.600885</td>\n",
       "      <td>0.157251</td>\n",
       "      <td>0.701324</td>\n",
       "      <td>0.157251</td>\n",
       "      <td>0.967700</td>\n",
       "      <td>1</td>\n",
       "    </tr>\n",
       "  </tbody>\n",
       "</table>\n",
       "</div>"
      ],
      "text/plain": [
       "     Model  Accuracy Precision    Recall  F1_Score Hamming_Loss Cohen's_Kappa  \\\n",
       "0  Model 1  0.544033  0.489101  0.551999   0.55813     0.283052      0.541347   \n",
       "1  Model 2  0.516134  0.471633  0.532285  0.538197     0.345953      0.451745   \n",
       "2  Model 3  0.278991  0.541505  0.118285  0.194349     0.880608      0.104951   \n",
       "3  Model 4  0.599831   0.49509  0.630856  0.600885     0.157251      0.701324   \n",
       "\n",
       "   Log_Loss  Topsis Score  Rank  \n",
       "0  0.283052      0.810146     2  \n",
       "1  0.345953      0.718670     3  \n",
       "2  0.880608      0.047850     4  \n",
       "3  0.157251      0.967700     1  "
      ]
     },
     "execution_count": 56,
     "metadata": {},
     "output_type": "execute_result"
    }
   ],
   "source": [
    "result4"
   ]
  },
  {
   "cell_type": "markdown",
   "metadata": {},
   "source": [
    "*In this domain, we can clearly observe that Model 4 has the final rank 1 based on the highest Topsis Score of 0.967. Hence, the best model in this domain is **Model4 - siebert/sentiment-roberta-large-english***\n"
   ]
  },
  {
   "cell_type": "markdown",
   "metadata": {},
   "source": [
    "*Hence, we have the following result*\n",
    "\n",
    "| Domain | Best Model | Model Name |\n",
    "|-----------------|-----------------|-----------------|\n",
    "| Education    | Model 2    | lxyuan/distilbert-base-multilingual-cased-sentiments-student    |\n",
    "| Sports    | Model 4    | siebert/sentiment-roberta-large-english    |\n",
    "| Politics    | Model 4    | siebert/sentiment-roberta-large-english    |\n",
    "| Finance    | Model 4    | siebert/sentiment-roberta-large-english    |\n"
   ]
  },
  {
   "cell_type": "markdown",
   "metadata": {},
   "source": []
  }
 ],
 "metadata": {
  "kernelspec": {
   "display_name": "Python 3",
   "language": "python",
   "name": "python3"
  },
  "language_info": {
   "codemirror_mode": {
    "name": "ipython",
    "version": 3
   },
   "file_extension": ".py",
   "mimetype": "text/x-python",
   "name": "python",
   "nbconvert_exporter": "python",
   "pygments_lexer": "ipython3",
   "version": "3.10.0"
  }
 },
 "nbformat": 4,
 "nbformat_minor": 2
}
